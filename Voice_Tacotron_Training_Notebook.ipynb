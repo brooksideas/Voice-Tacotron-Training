{
  "nbformat": 4,
  "nbformat_minor": 0,
  "metadata": {
    "colab": {
      "provenance": [],
      "private_outputs": true,
      "include_colab_link": true
    },
    "kernelspec": {
      "name": "python3",
      "display_name": "Python 3"
    },
    "accelerator": "GPU"
  },
  "cells": [
    {
      "cell_type": "markdown",
      "metadata": {
        "id": "view-in-github",
        "colab_type": "text"
      },
      "source": [
        "<a href=\"https://colab.research.google.com/github/brooksideas/Voice-Tacotron-Training/blob/main/Voice_Tacotron_Training_Notebook.ipynb\" target=\"_parent\"><img src=\"https://colab.research.google.com/assets/colab-badge.svg\" alt=\"Open In Colab\"/></a>"
      ]
    },
    {
      "cell_type": "markdown",
      "metadata": {
        "id": "4kK32tPFFATp"
      },
      "source": [
        "# Tacotron Training Notebook **(WIP)**\n",
        "\n",
        "Last edit: August 20th, 2020, 8:49 PM"
      ]
    },
    {
      "cell_type": "markdown",
      "metadata": {
        "id": "93s1x-ZoEFph"
      },
      "source": [
        "This is the Notebook for training new Tacotron models.\n",
        "\n",
        "If you're looking for the synthesis notebook, click here: https://colab.research.google.com/drive/1aXWAJhMpa6kFbeaTEAfxLsmPG6SQtj_7\n",
        "\n",
        "YouTube video: https://www.youtube.com/watch?v=LQAOCXdU8p8\n",
        "\n",
        "If there's a problem with this notebook that you've found, comment on the YouTube video, and I'll try to get back to you."
      ]
    },
    {
      "cell_type": "markdown",
      "metadata": {
        "id": "ZSnwgVhpEY05"
      },
      "source": [
        "If you're looking for the Glow-TTS notebooks, I haven't made them yet. I'll probably make the synthesis notebook sometime soon, but when/if I ever get it working again, I'll also put the training notebook here."
      ]
    },
    {
      "cell_type": "markdown",
      "metadata": {
        "id": "NRdeGt3YE2h5"
      },
      "source": [
        "If you don't know what Colab is, here's a notebook explaining what it is: https://colab.research.google.com/notebooks/intro.ipynb"
      ]
    },
    {
      "cell_type": "markdown",
      "metadata": {
        "id": "jSxAjSQrGVeI"
      },
      "source": [
        "Tacotron2 by NVIDIA\n",
        "\n",
        "https://github.com/NVIDIA/tacotron2\n",
        "\n",
        "Notebook plagarized from Cookie's Notebook (sorry Cookie)"
      ]
    },
    {
      "cell_type": "markdown",
      "metadata": {
        "id": "tK3xiflQHZqz"
      },
      "source": [
        "First, go up to \"Files\", and click \"Save copy to Drive\", and go to the copy, then continue."
      ]
    },
    {
      "cell_type": "markdown",
      "metadata": {
        "id": "RwSHGNXWEjys"
      },
      "source": [
        "# Check GPU\n",
        "\n",
        "First, if you want, you can check to see which GPU is currently being used. The best GPUs are P100, V100, and T4. If you get a K80 or P4, you can restart the runtime and try again if you'd like, but all GPUs will (probably) work with this notebook."
      ]
    },
    {
      "cell_type": "code",
      "metadata": {
        "id": "1lP4tdlKEEqU"
      },
      "source": [
        "!nvidia-smi -L"
      ],
      "execution_count": null,
      "outputs": []
    },
    {
      "cell_type": "markdown",
      "metadata": {
        "id": "sZxLjK10FrMy"
      },
      "source": [
        "#Mount Your Google Drive\n",
        "\n",
        "You will need to mount your Google Drive for this notebook. This is where your models are saved. If you're planning on making a lot of Tacotron models, I would reccommend you get more Google Drive storage. Each model is 300 MB.\n",
        "\n",
        "This cell will put a link to the Google Drive website, and it will ask you if you want to link your Google Drive. Afterwards, it will give you a code. Copy and paste it into the text box below the output."
      ]
    },
    {
      "cell_type": "code",
      "metadata": {
        "id": "lbZw-LNjF3f0"
      },
      "source": [
        "from google.colab import drive\n",
        "drive.mount('drive')"
      ],
      "execution_count": null,
      "outputs": []
    },
    {
      "cell_type": "markdown",
      "metadata": {
        "id": "SjtxzCV2Gywb"
      },
      "source": [
        "# Donwload Tacotron"
      ]
    },
    {
      "cell_type": "code",
      "source": [
        "!pip uninstall tensorflow\n",
        "!pip install tensorflow==2.11.0 --ignore-installed"
      ],
      "metadata": {
        "id": "BCvkPnQMdH4P"
      },
      "execution_count": null,
      "outputs": []
    },
    {
      "cell_type": "code",
      "metadata": {
        "id": "vTVe3hL2G4VE"
      },
      "source": [
        "%tensorflow_version 2.x\n",
        "import os\n",
        "!git clone -q https://github.com/NVIDIA/tacotron2\n",
        "os.chdir('tacotron2')\n",
        "!git submodule init\n",
        "!git submodule update\n",
        "!pip install -q unidecode tensorboardX"
      ],
      "execution_count": null,
      "outputs": []
    },
    {
      "cell_type": "markdown",
      "metadata": {
        "id": "nk5eQe8BHugf"
      },
      "source": [
        "# Upload dataset\n",
        "\n",
        "This is where you will need to upload your dataset. First, run the cell below. This will make the folder where you will put your audio files."
      ]
    },
    {
      "cell_type": "code",
      "metadata": {
        "id": "KvZRk3v4H324"
      },
      "source": [
        "data_path = 'wavs'\n",
        "!mkdir {data_path}"
      ],
      "execution_count": null,
      "outputs": []
    },
    {
      "cell_type": "markdown",
      "metadata": {
        "id": "kfVG3wpvIqYP"
      },
      "source": [
        "![fill.PNG](data:image/png;base64,iVBORw0KGgoAAAANSUhEUgAAADgAAABhCAYAAACDB2IhAAAAAXNSR0IArs4c6QAAAARnQU1BAACxjwv8YQUAAAAJcEhZcwAAFiUAABYlAUlSJPAAAAFcSURBVHhe7dgxSgNRFIVhS1egK3EJZiepLM0OFOtglmBpnVaxF2JjERslohAQBEFBEJ4emYFBn8R5uRPuDf8Hp5vc5C8nG2nNERgdgdERGB2B0REYHYHRERgdgdERKJd7m78WBYFCoGMECoGOESgEOkagEOgYgUKgYwQKgY4RKG0C35/u0uP48M/Nz0fVk6thGvh6f5V99uduT/rVJ7pnGjg73c8+m9uqIk0Dp8Pd7LPLbjrspY+35+pb2gkRqM3PjqtvaaeTwOujnfRyc2Ey3dJN3S7RSWDpj8lZ9iaB0gyrl0NgAQIXIFCaYfVyCCxA4AIESjOsXs7aB9avS5PB9tcP6plMt3RTt0uYBv73hbftJoOt79slTANFf1k8jA9Mp5ulzAO9IVAIdIxAIdAxAoVAxwgUAh0jUAh0jEAh0DECoyMwOgKjIzA6AqMjMDoCoyMwOgKjIzC2lD4BurFAFkpq/eUAAAAASUVORK5CYII=)\n",
        "\n",
        "Next, go to the left of the screen, and click on the folder icon.\n",
        "\n",
        "![tak.PNG](data:image/png;base64,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)\n",
        "\n",
        "Then, click on the Tacotron folder\n",
        "\n",
        "![oop.png](data:image/png;base64,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)\n",
        "\n",
        "Right click on the \"wavs\" folder, and click upload. Then, upload of the wav files that you want to put in."
      ]
    },
    {
      "cell_type": "markdown",
      "metadata": {
        "id": "IP9f5t1fKcYO"
      },
      "source": [
        "Right click on the \"filelists\" folder, and upload your text file."
      ]
    },
    {
      "cell_type": "markdown",
      "metadata": {
        "id": "CIOe_88IK6iF"
      },
      "source": [
        "# Prepare the model\n",
        "\n",
        "This next section prepares the model and stuff for training.\n"
      ]
    },
    {
      "cell_type": "code",
      "source": [
        "!tf_upgrade_v2 \\\n",
        "  --infile /hparams_v2.py \\\n",
        "  --outfile /tmp/hparams_v2.py \\\n",
        "  --reportfile /tmp/report.txt"
      ],
      "metadata": {
        "id": "JDHaOyNIfAef"
      },
      "execution_count": null,
      "outputs": []
    },
    {
      "cell_type": "code",
      "source": [
        "#!pip show torch\n",
        "!pip install pickle5"
      ],
      "metadata": {
        "id": "ppzfi9BOfGLP"
      },
      "execution_count": null,
      "outputs": []
    },
    {
      "cell_type": "markdown",
      "source": [],
      "metadata": {
        "id": "45Xl7EA01GtN"
      }
    },
    {
      "cell_type": "code",
      "source": [
        "!pwd"
      ],
      "metadata": {
        "id": "Uj73YjTRf1mp"
      },
      "execution_count": null,
      "outputs": []
    },
    {
      "cell_type": "code",
      "metadata": {
        "id": "cD7wNMRZKrJ3"
      },
      "source": [
        "#@title A bunch of boring code and stuff (if you want to look at it, double click on this cell)\n",
        "%matplotlib inline\n",
        "import os\n",
        "if os.getcwd() != '/content/tacotron2':\n",
        "    os.chdir('tacotron2')\n",
        "import time\n",
        "import argparse\n",
        "import math\n",
        "from numpy import finfo\n",
        "\n",
        "import torch\n",
        "from distributed import apply_gradient_allreduce\n",
        "import torch.distributed as dist\n",
        "from torch.utils.data.distributed import DistributedSampler\n",
        "from torch.utils.data import DataLoader\n",
        "\n",
        "from model import Tacotron2\n",
        "from data_utils import TextMelLoader, TextMelCollate\n",
        "from loss_function import Tacotron2Loss\n",
        "from logger import Tacotron2Logger\n",
        "from hparams import create_hparams\n",
        " \n",
        "import random\n",
        "import numpy as np\n",
        "\n",
        "import layers\n",
        "from utils import load_wav_to_torch, load_filepaths_and_text\n",
        "from text import text_to_sequence\n",
        "from math import e\n",
        "#from tqdm import tqdm # Terminal\n",
        "#from tqdm import tqdm_notebook as tqdm # Legacy Notebook TQDM\n",
        "from tqdm.notebook import tqdm # Modern Notebook TQDM\n",
        "from distutils.dir_util import copy_tree\n",
        "import matplotlib.pylab as plt\n",
        "\n",
        "def download_from_google_drive(file_id, file_name):\n",
        "  # download a file from the Google Drive link\n",
        "  !rm -f ./cookie\n",
        "  !curl -c ./cookie -s -L \"https://drive.google.com/uc?export=download&id={file_id}\" > /dev/null\n",
        "  #confirm_text = !awk '/download/ {print $NF}' ./cookie\n",
        "  #confirm_text = confirm_text[0]\n",
        "  #!curl -Lb ./cookie \"https://drive.google.com/uc?export=download&confirm={confirm_text}&id={file_id}\" -o {file_name}\n",
        "\n",
        "def create_mels():\n",
        "    print(\"Generating Mels\")\n",
        "    stft = layers.TacotronSTFT(\n",
        "                hparams.filter_length, hparams.hop_length, hparams.win_length,\n",
        "                hparams.n_mel_channels, hparams.sampling_rate, hparams.mel_fmin,\n",
        "                hparams.mel_fmax)\n",
        "    def save_mel(filename):\n",
        "        audio, sampling_rate = load_wav_to_torch(filename)\n",
        "        if sampling_rate != stft.sampling_rate:\n",
        "            raise ValueError(\"{} {} SR doesn't match target {} SR\".format(filename, \n",
        "                sampling_rate, stft.sampling_rate))\n",
        "        audio_norm = audio / hparams.max_wav_value\n",
        "        audio_norm = audio_norm.unsqueeze(0)\n",
        "        audio_norm = torch.autograd.Variable(audio_norm, requires_grad=False)\n",
        "        melspec = stft.mel_spectrogram(audio_norm)\n",
        "        melspec = torch.squeeze(melspec, 0).cpu().numpy()\n",
        "        np.save(filename.replace('.wav', ''), melspec)\n",
        "\n",
        "    import glob\n",
        "    wavs = glob.glob('wavs/*.wav')\n",
        "    for i in tqdm(wavs):\n",
        "        save_mel(i)\n",
        "\n",
        "\n",
        "def reduce_tensor(tensor, n_gpus):\n",
        "    rt = tensor.clone()\n",
        "    dist.all_reduce(rt, op=dist.reduce_op.SUM)\n",
        "    rt /= n_gpus\n",
        "    return rt\n",
        "\n",
        "\n",
        "def init_distributed(hparams, n_gpus, rank, group_name):\n",
        "    assert torch.cuda.is_available(), \"Distributed mode requires CUDA.\"\n",
        "    print(\"Initializing Distributed\")\n",
        "\n",
        "    # Set cuda device so everything is done on the right GPU.\n",
        "    torch.cuda.set_device(rank % torch.cuda.device_count())\n",
        "\n",
        "    # Initialize distributed communication\n",
        "    dist.init_process_group(\n",
        "        backend=hparams.dist_backend, init_method=hparams.dist_url,\n",
        "        world_size=n_gpus, rank=rank, group_name=group_name)\n",
        "\n",
        "    print(\"Done initializing distributed\")\n",
        "\n",
        "\n",
        "def prepare_dataloaders(hparams):\n",
        "    # Get data, data loaders and collate function ready\n",
        "    trainset = TextMelLoader(hparams.training_files, hparams)\n",
        "    valset = TextMelLoader(hparams.validation_files, hparams)\n",
        "    collate_fn = TextMelCollate(hparams.n_frames_per_step)\n",
        "\n",
        "    if hparams.distributed_run:\n",
        "        train_sampler = DistributedSampler(trainset)\n",
        "        shuffle = False\n",
        "    else:\n",
        "        train_sampler = None\n",
        "        shuffle = True\n",
        "\n",
        "    train_loader = DataLoader(trainset, num_workers=1, shuffle=shuffle,\n",
        "                              sampler=train_sampler,\n",
        "                              batch_size=hparams.batch_size, pin_memory=False,\n",
        "                              drop_last=True, collate_fn=collate_fn)\n",
        "    return train_loader, valset, collate_fn\n",
        "\n",
        "\n",
        "def prepare_directories_and_logger(output_directory, log_directory, rank):\n",
        "    if rank == 0:\n",
        "        if not os.path.isdir(output_directory):\n",
        "            os.makedirs(output_directory)\n",
        "            os.chmod(output_directory, 0o775)\n",
        "        logger = Tacotron2Logger(os.path.join(output_directory, log_directory))\n",
        "    else:\n",
        "        logger = None\n",
        "    return logger\n",
        "\n",
        "\n",
        "def load_model(hparams):\n",
        "    model = Tacotron2(hparams).cuda()\n",
        "    if hparams.fp16_run:\n",
        "        model.decoder.attention_layer.score_mask_value = finfo('float16').min\n",
        "\n",
        "    if hparams.distributed_run:\n",
        "        model = apply_gradient_allreduce(model)\n",
        "\n",
        "    return model\n",
        "\n",
        "\n",
        "def warm_start_model(checkpoint_path, model, ignore_layers):\n",
        "    assert os.path.isfile(checkpoint_path)\n",
        "    print(\"Warm starting model from checkpoint '{}'\".format(checkpoint_path))\n",
        "    checkpoint_dict = torch.load(checkpoint_path, map_location='cpu')\n",
        "    model_dict = checkpoint_dict['state_dict']\n",
        "    if len(ignore_layers) > 0:\n",
        "        model_dict = {k: v for k, v in model_dict.items()\n",
        "                      if k not in ignore_layers}\n",
        "        dummy_dict = model.state_dict()\n",
        "        dummy_dict.update(model_dict)\n",
        "        model_dict = dummy_dict\n",
        "    model.load_state_dict(model_dict)\n",
        "    return model\n",
        "\n",
        "\n",
        "def load_checkpoint(checkpoint_path, model, optimizer):\n",
        "    assert os.path.isfile(checkpoint_path)\n",
        "    print(\"Loading checkpoint '{}'\".format(checkpoint_path))\n",
        "    checkpoint_dict = torch.load(checkpoint_path, map_location='cpu')\n",
        "    model.load_state_dict(checkpoint_dict['state_dict'])\n",
        "    optimizer.load_state_dict(checkpoint_dict['optimizer'])\n",
        "    learning_rate = checkpoint_dict['learning_rate']\n",
        "    iteration = checkpoint_dict['iteration']\n",
        "    print(\"Loaded checkpoint '{}' from iteration {}\" .format(\n",
        "        checkpoint_path, iteration))\n",
        "    return model, optimizer, learning_rate, iteration\n",
        "\n",
        "\n",
        "def save_checkpoint(model, optimizer, learning_rate, iteration, filepath):\n",
        "    print(\"Saving model and optimizer state at iteration {} to {}\".format(\n",
        "        iteration, filepath))\n",
        "    try:\n",
        "        torch.save({'iteration': iteration,\n",
        "                'state_dict': model.state_dict(),\n",
        "                'optimizer': optimizer.state_dict(),\n",
        "                'learning_rate': learning_rate}, filepath)\n",
        "    except KeyboardInterrupt:\n",
        "        print(\"interrupt received while saving, waiting for save to complete.\")\n",
        "        torch.save({'iteration': iteration,'state_dict': model.state_dict(),'optimizer': optimizer.state_dict(),'learning_rate': learning_rate}, filepath)\n",
        "    print(\"Model Saved\")\n",
        "\n",
        "def plot_alignment(alignment, info=None):\n",
        "    %matplotlib inline\n",
        "    fig, ax = plt.subplots(figsize=(int(alignment_graph_width/100), int(alignment_graph_height/100)))\n",
        "    im = ax.imshow(alignment, cmap='inferno', aspect='auto', origin='lower',\n",
        "                   interpolation='none')\n",
        "    ax.autoscale(enable=True, axis=\"y\", tight=True)\n",
        "    fig.colorbar(im, ax=ax)\n",
        "    xlabel = 'Decoder timestep'\n",
        "    if info is not None:\n",
        "        xlabel += '\\n\\n' + info\n",
        "    plt.xlabel(xlabel)\n",
        "    plt.ylabel('Encoder timestep')\n",
        "    plt.tight_layout()\n",
        "    fig.canvas.draw()\n",
        "    plt.show()\n",
        "\n",
        "def validate(model, criterion, valset, iteration, batch_size, n_gpus,\n",
        "             collate_fn, logger, distributed_run, rank, epoch, start_eposh, learning_rate):\n",
        "    \"\"\"Handles all the validation scoring and printing\"\"\"\n",
        "    model.eval()\n",
        "    with torch.no_grad():\n",
        "        val_sampler = DistributedSampler(valset) if distributed_run else None\n",
        "        val_loader = DataLoader(valset, sampler=val_sampler, num_workers=1,\n",
        "                                shuffle=False, batch_size=batch_size,\n",
        "                                pin_memory=False, collate_fn=collate_fn)\n",
        "\n",
        "        val_loss = 0.0\n",
        "        for i, batch in enumerate(val_loader):\n",
        "            x, y = model.parse_batch(batch)\n",
        "            y_pred = model(x)\n",
        "            loss = criterion(y_pred, y)\n",
        "            if distributed_run:\n",
        "                reduced_val_loss = reduce_tensor(loss.data, n_gpus).item()\n",
        "            else:\n",
        "                reduced_val_loss = loss.item()\n",
        "            val_loss += reduced_val_loss\n",
        "        val_loss = val_loss / (i + 1)\n",
        "\n",
        "    model.train()\n",
        "    if rank == 0:\n",
        "        print(\"Epoch: {} Validation loss {}: {:9f}  Time: {:.1f}m LR: {:.6f}\".format(epoch, iteration, val_loss,(time.perf_counter()-start_eposh)/60, learning_rate))\n",
        "        logger.log_validation(val_loss, model, y, y_pred, iteration)\n",
        "        if hparams.show_alignments:\n",
        "            %matplotlib inline\n",
        "            _, mel_outputs, gate_outputs, alignments = y_pred\n",
        "            idx = random.randint(0, alignments.size(0) - 1)\n",
        "            plot_alignment(alignments[idx].data.cpu().numpy().T)\n",
        "\n",
        "def train(output_directory, log_directory, checkpoint_path, warm_start, n_gpus,\n",
        "          rank, group_name, hparams, log_directory2):\n",
        "    \"\"\"Training and validation logging results to tensorboard and stdout\n",
        "\n",
        "    Params\n",
        "    ------\n",
        "    output_directory (string): directory to save checkpoints\n",
        "    log_directory (string) directory to save tensorboard logs\n",
        "    checkpoint_path(string): checkpoint path\n",
        "    n_gpus (int): number of gpus\n",
        "    rank (int): rank of current gpu\n",
        "    hparams (object): comma separated list of \"name=value\" pairs.\n",
        "    \"\"\"\n",
        "    if hparams.distributed_run:\n",
        "        init_distributed(hparams, n_gpus, rank, group_name)\n",
        "\n",
        "    torch.manual_seed(hparams.seed)\n",
        "    torch.cuda.manual_seed(hparams.seed)\n",
        "\n",
        "    model = load_model(hparams)\n",
        "    learning_rate = hparams.learning_rate\n",
        "    optimizer = torch.optim.Adam(model.parameters(), lr=learning_rate,\n",
        "                                 weight_decay=hparams.weight_decay)\n",
        "\n",
        "    if hparams.fp16_run:\n",
        "        from apex import amp\n",
        "        model, optimizer = amp.initialize(\n",
        "            model, optimizer, opt_level='O2')\n",
        "\n",
        "    if hparams.distributed_run:\n",
        "        model = apply_gradient_allreduce(model)\n",
        "\n",
        "    criterion = Tacotron2Loss()\n",
        "\n",
        "    logger = prepare_directories_and_logger(\n",
        "        output_directory, log_directory, rank)\n",
        "\n",
        "    train_loader, valset, collate_fn = prepare_dataloaders(hparams)\n",
        "\n",
        "    # Load checkpoint if one exists\n",
        "    iteration = 0\n",
        "    epoch_offset = 0\n",
        "    if checkpoint_path is not None and os.path.isfile(checkpoint_path):\n",
        "        if warm_start:\n",
        "            model = warm_start_model(\n",
        "                checkpoint_path, model, hparams.ignore_layers)\n",
        "        else:\n",
        "            model, optimizer, _learning_rate, iteration = load_checkpoint(\n",
        "                checkpoint_path, model, optimizer)\n",
        "            if hparams.use_saved_learning_rate:\n",
        "                learning_rate = _learning_rate\n",
        "            iteration += 1  # next iteration is iteration + 1\n",
        "            epoch_offset = max(0, int(iteration / len(train_loader)))\n",
        "    else:\n",
        "      os.path.isfile(\"pretrained_model\")\n",
        "      download_from_google_drive(\"1c5ZTuT7J08wLUoVZ2KkUs_VdZuJ86ZqA\",\"pretrained_model\")\n",
        "      model = warm_start_model(\"pretrained_model\", model, hparams.ignore_layers)\n",
        "      # download LJSpeech pretrained model if no checkpoint already exists\n",
        "    \n",
        "    start_eposh = time.perf_counter()\n",
        "    learning_rate = 0.0\n",
        "    model.train()\n",
        "    is_overflow = False\n",
        "    # ================ MAIN TRAINNIG LOOP! ===================\n",
        "    for epoch in tqdm(range(epoch_offset, hparams.epochs)):\n",
        "        print(\"\\nStarting Epoch: {} Iteration: {}\".format(epoch, iteration))\n",
        "        start_eposh = time.perf_counter() # eposh is russian, not a typo\n",
        "        for i, batch in tqdm(enumerate(train_loader), total=len(train_loader)):\n",
        "            start = time.perf_counter()\n",
        "            if iteration < hparams.decay_start: learning_rate = hparams.A_\n",
        "            else: iteration_adjusted = iteration - hparams.decay_start; learning_rate = (hparams.A_*(e**(-iteration_adjusted/hparams.B_))) + hparams.C_\n",
        "            learning_rate = max(hparams.min_learning_rate, learning_rate) # output the largest number\n",
        "            for param_group in optimizer.param_groups:\n",
        "                param_group['lr'] = learning_rate\n",
        "\n",
        "            model.zero_grad()\n",
        "            x, y = model.parse_batch(batch)\n",
        "            y_pred = model(x)\n",
        "\n",
        "            loss = criterion(y_pred, y)\n",
        "            if hparams.distributed_run:\n",
        "                reduced_loss = reduce_tensor(loss.data, n_gpus).item()\n",
        "            else:\n",
        "                reduced_loss = loss.item()\n",
        "            if hparams.fp16_run:\n",
        "                with amp.scale_loss(loss, optimizer) as scaled_loss:\n",
        "                    scaled_loss.backward()\n",
        "            else:\n",
        "                loss.backward()\n",
        "\n",
        "            if hparams.fp16_run:\n",
        "                grad_norm = torch.nn.utils.clip_grad_norm_(\n",
        "                    amp.master_params(optimizer), hparams.grad_clip_thresh)\n",
        "                is_overflow = math.isnan(grad_norm)\n",
        "            else:\n",
        "                grad_norm = torch.nn.utils.clip_grad_norm_(\n",
        "                    model.parameters(), hparams.grad_clip_thresh)\n",
        "\n",
        "            optimizer.step()\n",
        "\n",
        "            if not is_overflow and rank == 0:\n",
        "                duration = time.perf_counter() - start\n",
        "                logger.log_training(\n",
        "                    reduced_loss, grad_norm, learning_rate, duration, iteration)\n",
        "                #print(\"Batch {} loss {:.6f} Grad Norm {:.6f} Time {:.6f}\".format(iteration, reduced_loss, grad_norm, duration), end='\\r', flush=True)\n",
        "\n",
        "            iteration += 1\n",
        "        validate(model, criterion, valset, iteration,\n",
        "                 hparams.batch_size, n_gpus, collate_fn, logger,\n",
        "                 hparams.distributed_run, rank, epoch, start_eposh, learning_rate)\n",
        "        save_checkpoint(model, optimizer, learning_rate, iteration, checkpoint_path)\n",
        "        if log_directory2 != None:\n",
        "            copy_tree(log_directory, log_directory2)\n",
        "def check_dataset(hparams):\n",
        "    from utils import load_wav_to_torch, load_filepaths_and_text\n",
        "    import os\n",
        "    import numpy as np\n",
        "    def check_arr(filelist_arr):\n",
        "        for i, file in enumerate(filelist_arr):\n",
        "            if len(file) > 2:\n",
        "                print(\"|\".join(file), \"\\nhas multiple '|', this may not be an error.\")\n",
        "            if hparams.load_mel_from_disk and '.wav' in file[0]:\n",
        "                print(\"[WARNING]\", file[0], \" in filelist while expecting .npy .\")\n",
        "            else:\n",
        "                if not hparams.load_mel_from_disk and '.npy' in file[0]:\n",
        "                    print(\"[WARNING]\", file[0], \" in filelist while expecting .wav .\")\n",
        "            if (not os.path.exists(file[0])):\n",
        "                print(\"|\".join(file), \"\\n[WARNING] does not exist.\")\n",
        "            if len(file[1]) < 3:\n",
        "                print(\"|\".join(file), \"\\n[info] has no/very little text.\")\n",
        "            if not ((file[1].strip())[-1] in r\"!?,.;:\"):\n",
        "                print(\"|\".join(file), \"\\n[info] has no ending punctuation.\")\n",
        "            mel_length = 1\n",
        "            if hparams.load_mel_from_disk and '.npy' in file[0]:\n",
        "                melspec = torch.from_numpy(np.load(file[0], allow_pickle=True))\n",
        "                mel_length = melspec.shape[1]\n",
        "            if mel_length == 0:\n",
        "                print(\"|\".join(file), \"\\n[WARNING] has 0 duration.\")\n",
        "    print(\"Checking Training Files\")\n",
        "    audiopaths_and_text = load_filepaths_and_text(hparams.training_files) # get split lines from training_files text file.\n",
        "    check_arr(audiopaths_and_text)\n",
        "    print(\"Checking Validation Files\")\n",
        "    audiopaths_and_text = load_filepaths_and_text(hparams.validation_files) # get split lines from validation_files text file.\n",
        "    check_arr(audiopaths_and_text)\n",
        "    print(\"Finished Checking\")\n",
        "\n",
        "# ---- Replace .wav with .npy in filelists ----\n",
        "!sed -i -- 's,.wav|,.npy|,g' filelists/*.txt\n",
        "# ---- Replace .wav with .npy in filelists ----\n",
        "\n",
        "warm_start=False#sorry bout that\n",
        "n_gpus=1\n",
        "rank=0\n",
        "group_name=None\n",
        "\n",
        "# ---- DEFAULT PARAMETERS DEFINED HERE ----\n",
        "hparams = create_hparams()\n",
        "model_filename = 'current_model'\n",
        "hparams.training_files = \"filelists/list.txt\"\n",
        "hparams.validation_files = \"filelists/list.txt\"\n",
        "#hparams.use_mmi=True,          # not used in this notebook\n",
        "#hparams.use_gaf=True,          # not used in this notebook\n",
        "#hparams.max_gaf=0.5,           # not used in this notebook\n",
        "#hparams.drop_frame_rate = 0.2  # not used in this notebook\n",
        "hparams.p_attention_dropout=0.1\n",
        "hparams.p_decoder_dropout=0.1\n",
        "hparams.decay_start = 15000\n",
        "hparams.A_ = 5e-4\n",
        "hparams.B_ = 8000\n",
        "hparams.C_ = 0\n",
        "hparams.min_learning_rate = 1e-5\n",
        "generate_mels = True\n",
        "hparams.show_alignments = True\n",
        "alignment_graph_height = 600\n",
        "alignment_graph_width = 1000\n",
        "hparams.batch_size = 32\n",
        "hparams.load_mel_from_disk = True\n",
        "hparams.ignore_layers = []\n",
        "hparams.epochs = 10000\n",
        "torch.backends.cudnn.enabled = hparams.cudnn_enabled\n",
        "torch.backends.cudnn.benchmark = hparams.cudnn_benchmark\n",
        "output_directory = '/content/drive/My Drive/colab/outdir' # Location to save Checkpoints\n",
        "log_directory = '/content/tacotron2/logs' # Location to save Log files locally\n",
        "log_directory2 = '/content/drive/My Drive/colab/logs' # Location to copy log files (done at the end of each epoch to cut down on I/O)\n",
        "checkpoint_path = output_directory+(r'/')+model_filename"
      ],
      "execution_count": null,
      "outputs": []
    },
    {
      "cell_type": "markdown",
      "metadata": {
        "id": "wv62yzewMKui"
      },
      "source": [
        "This is where you put the name of the model (usually the name of the person's voice you're cloning)"
      ]
    },
    {
      "cell_type": "code",
      "metadata": {
        "id": "mWF5VuGELRey",
        "cellView": "form"
      },
      "source": [
        "#@title Name the model\n",
        "\n",
        "model_filename = \"brookvoice50\" #@param {type:\"string\"}"
      ],
      "execution_count": null,
      "outputs": []
    },
    {
      "cell_type": "markdown",
      "metadata": {
        "id": "-n3e8PDeMAWi"
      },
      "source": [
        "Replace \"PUTFILENAMEHERE\" with the name of your text file."
      ]
    },
    {
      "cell_type": "code",
      "metadata": {
        "id": "zyP8e7TfLtmX"
      },
      "source": [
        "hparams.training_files = \"filelists/list.txt\"\n",
        "hparams.validation_files = \"filelists/list.txt\""
      ],
      "execution_count": null,
      "outputs": []
    },
    {
      "cell_type": "markdown",
      "metadata": {
        "id": "ut6p3YmSNYY6"
      },
      "source": [
        "### Set the parameters\n",
        "\n",
        "You can play around with these if you want."
      ]
    },
    {
      "cell_type": "code",
      "metadata": {
        "id": "dpm433-rMfKt"
      },
      "source": [
        "# hparams to Tune\n",
        "\n",
        "#These two are the most important\n",
        "hparams.batch_size = 30 # Controls how fast the model trains. Don't set this too high, or else it will GPU will OOM (out of memory). 30-ish is usually a good number if you have a bigger dataset. If the number of audio files is more than/about the same as this number, it won't train properly, and you won't be able to use it.\n",
        "hparams.epochs = 500 # Maxmimum epochs (number of times the AI looks through the dataset) to train\n",
        "\n",
        "#The rest aren't that important\n",
        "hparams.p_attention_dropout=0.1\n",
        "hparams.p_decoder_dropout=0.1\n",
        "hparams.decay_start = 15000         # wait till decay_start to start decaying learning rate\n",
        "hparams.A_ = 5e-4                   # Start/Max Learning Rate\n",
        "hparams.B_ = 8000                   # Decay Rate\n",
        "hparams.C_ = 0                      # Shift learning rate equation by this value\n",
        "hparams.min_learning_rate = 1e-5    # Min Learning Rate\n",
        "generate_mels = True # Don't change\n",
        "hparams.show_alignments = True\n",
        "alignment_graph_height = 600\n",
        "alignment_graph_width = 1000\n",
        "hparams.load_mel_from_disk = True\n",
        "hparams.ignore_layers = [] # Layers to reset (None by default, other than foreign languages this param can be ignored)\n",
        "\n",
        "torch.backends.cudnn.enabled = hparams.cudnn_enabled\n",
        "torch.backends.cudnn.benchmark = hparams.cudnn_benchmark\n",
        "output_directory = '/content/drive/My Drive/colab/outdir' # Location to save Checkpoints\n",
        "log_directory = '/content/tacotron2/logs' # Location to save Log files locally\n",
        "log_directory2 = '/content/drive/My Drive/colab/logs' # Location to copy log files (done at the end of each epoch to cut down on I/O)\n",
        "checkpoint_path = output_directory+(r'/')+model_filename"
      ],
      "execution_count": null,
      "outputs": []
    },
    {
      "cell_type": "markdown",
      "metadata": {
        "id": "XbcqKVlNNxxV"
      },
      "source": [
        "### Create MEL spectrograms\n",
        "\n",
        "The MEL spectrograms are the input for the AI."
      ]
    },
    {
      "cell_type": "code",
      "metadata": {
        "id": "JiuUJH_ANSmv"
      },
      "source": [
        "if generate_mels:\n",
        "    create_mels()"
      ],
      "execution_count": null,
      "outputs": []
    },
    {
      "cell_type": "markdown",
      "metadata": {
        "id": "OMKk2asHOAKh"
      },
      "source": [
        "### Check data\n",
        "\n",
        "This cell will go through the dataset one more time to see if anything's wrong before training starts."
      ]
    },
    {
      "cell_type": "code",
      "metadata": {
        "id": "rJ08eb1eOFau"
      },
      "source": [
        "check_dataset(hparams)"
      ],
      "execution_count": null,
      "outputs": []
    },
    {
      "cell_type": "markdown",
      "metadata": {
        "id": "0LDuVYavOPij"
      },
      "source": [
        "# Start training!"
      ]
    },
    {
      "cell_type": "markdown",
      "metadata": {
        "id": "wpe88HwnOT2p"
      },
      "source": [
        "This next cell will begin training the model!"
      ]
    },
    {
      "cell_type": "code",
      "source": [
        "print(checkpoint_path)"
      ],
      "metadata": {
        "id": "Z-ocaQAbwTGS"
      },
      "execution_count": null,
      "outputs": []
    },
    {
      "cell_type": "code",
      "source": [
        "import tensorflow as tf\n",
        "\n",
        "# Define the model architecture\n",
        "model = tf.keras.models.Sequential([\n",
        "    tf.keras.layers.Conv1D(32, kernel_size=3, activation='relu', input_shape=(, 1)),\n",
        "    tf.keras.layers.MaxPooling1D(pool_size=2),\n",
        "    tf.keras.layers.Flatten(),\n",
        "    tf.keras.layers.Dense(10, activation='softmax')\n",
        "])\n",
        "\n",
        "# Compile the model\n",
        "model.compile(optimizer='adam', loss='categorical_crossentropy', metrics=['accuracy'])\n",
        "\n",
        "# Train the model on audio data\n",
        "train_data = ...\n",
        "train_labels = ...\n",
        "model.fit(train_data, train_labels, epochs=10)\n",
        "\n",
        "# Save the model as a TensorFlow SavedModel\n",
        "tf.saved_model.save(model, output_directory)"
      ],
      "metadata": {
        "id": "gROMUh_yFfOW"
      },
      "execution_count": null,
      "outputs": []
    },
    {
      "cell_type": "code",
      "metadata": {
        "id": "oq0cH7AtOEAx"
      },
      "source": [
        "print('FP16 Run:', hparams.fp16_run)\n",
        "print('Dynamic Loss Scaling:', hparams.dynamic_loss_scaling)\n",
        "print('Distributed Run:', hparams.distributed_run)\n",
        "print('cuDNN Enabled:', hparams.cudnn_enabled)\n",
        "print('cuDNN Benchmark:', hparams.cudnn_benchmark)\n",
        "train(output_directory, log_directory, checkpoint_path,\n",
        "      warm_start, n_gpus, rank, group_name, hparams, log_directory2)"
      ],
      "execution_count": null,
      "outputs": []
    },
    {
      "cell_type": "markdown",
      "metadata": {
        "id": "u9lwF9PWPL3N"
      },
      "source": [
        "Congrats! You've (hopefully) successfully trained a Tacotron model!\n",
        "\n",
        "If there was a problem with training, just leave a comment on the YouTube video, and I'll try to respond!\n",
        "\n",
        "Now, before you go into the synthesis notebook, go to your Google Drive, (https://drive.google.com/drive/my-drive), go into the folder that says \"colab\", go into \"outdir\", and right click on the .tar file with your model's name.\n",
        "![drv.PNG](data:image/png;base64,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)\n",
        "Click on \"get shareable link\", change \"Restricted\" to \"anyone with the link\", then copy the link!"
      ]
    }
  ]
}